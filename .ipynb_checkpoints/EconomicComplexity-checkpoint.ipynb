{
 "cells": [
  {
   "cell_type": "markdown",
   "metadata": {},
   "source": [
    "# example\n",
    "\n",
    "--|steel|oil|chip|bean|clothes\n",
    "--|--|--|--|--|--\n",
    "USA|1|1|1|1|0\n",
    "China|1|0|0|1|1\n",
    "Viet Nam|0|0|0|1|1"
   ]
  },
  {
   "cell_type": "code",
   "execution_count": 128,
   "metadata": {},
   "outputs": [],
   "source": [
    "import numpy as np\n",
    "\n",
    "\n",
    "def RCA(Xcp):\n",
    "    \"\"\"\n",
    "    Xcp is a numpy.matrix type\n",
    "    --|steel|oil|chip|bean|clothes\n",
    "    --|--|--|--|--|--\n",
    "    USA|1|1|1|1|0\n",
    "    China|1|0|0|1|1\n",
    "    Viet Nam|0|0|0|1|1\n",
    "    \"\"\"\n",
    "    if type(Xcp) is not np.matrix:\n",
    "        if type(Xcp) is np.array or list:\n",
    "            Xcp=np.matrix(Xcp)\n",
    "        else:\n",
    "            raise ValueError('Xcp must be matrix')\n",
    "    else:\n",
    "        pass\n",
    "    B=Xcp.sum(1)*Xcp.sum(0) \n",
    "    Sum=Xcp.sum()\n",
    "    return Xcp*Sum/B\n",
    "    \n",
    "def fliterRCA(R):\n",
    "    M=R>1\n",
    "    return M.astype(float)\n",
    "\n"
   ]
  },
  {
   "cell_type": "code",
   "execution_count": 296,
   "metadata": {},
   "outputs": [],
   "source": [
    "# example data\n",
    "product_name=[\"steel\",\"oil\",\"chip\",\"bean\",\"clothes\"]\n",
    "country_name=[\"USA\",\"China\",\"Viet Nam\"]\n",
    "data=[[1,1,1,1,0],[1,0,0,1,1],[0,0,0,1,1]]\n",
    "data=np.matrix(data)\n",
    "R=RCA(data)\n",
    "M=fliterRCA(R)"
   ]
  },
  {
   "cell_type": "code",
   "execution_count": 335,
   "metadata": {},
   "outputs": [],
   "source": [
    "D=np.diag(M.sum(1).T.tolist()[0])\n",
    "U=np.diag(M.sum(0).tolist()[0])\n",
    "mcp1 = np.linalg.inv(D)*M\n",
    "mcp2 = M*np.linalg.inv(U)\n",
    "Mcc = mcp1 @ mcp2.T\n",
    "Mpp = mcp2.T @ mcp1"
   ]
  },
  {
   "cell_type": "code",
   "execution_count": 351,
   "metadata": {},
   "outputs": [],
   "source": [
    "eigvals, eigvecs = np.linalg.eig(Mpp)\n",
    "eigvecs = np.real(eigvecs)\n",
    "# Get eigenvector corresponding to second largest eigenvalue\n",
    "eig_index = eigvals.argsort()[-2]\n",
    "kp = eigvecs[:, eig_index]\n",
    "kc = mcp1 @ kp\n",
    "s1 = np.sign(np.corrcoef(M.sum(1).reshape(-1), kc.reshape(-1))[0, 1])\n",
    "eci = s1 * kc\n",
    "pci = s1 * kp"
   ]
  },
  {
   "cell_type": "code",
   "execution_count": 352,
   "metadata": {},
   "outputs": [
    {
     "data": {
      "text/plain": [
       "matrix([[ 0.38230021],\n",
       "        [-0.08766502],\n",
       "        [-0.48578529]])"
      ]
     },
     "execution_count": 352,
     "metadata": {},
     "output_type": "execute_result"
    }
   ],
   "source": [
    "eci"
   ]
  },
  {
   "cell_type": "code",
   "execution_count": 353,
   "metadata": {},
   "outputs": [
    {
     "data": {
      "text/plain": [
       "matrix([[ 0.18527832],\n",
       "        [ 0.48081115],\n",
       "        [ 0.48081115],\n",
       "        [-0.61096222],\n",
       "        [-0.36060836]])"
      ]
     },
     "execution_count": 353,
     "metadata": {},
     "output_type": "execute_result"
    }
   ],
   "source": [
    "pci"
   ]
  },
  {
   "cell_type": "code",
   "execution_count": 349,
   "metadata": {},
   "outputs": [],
   "source": [
    "s1 = np.sign(np.corrcoef(M.sum(1).reshape(-1), kc.reshape(-1))[0, 1])"
   ]
  },
  {
   "cell_type": "code",
   "execution_count": 350,
   "metadata": {},
   "outputs": [
    {
     "data": {
      "text/plain": [
       "1.0"
      ]
     },
     "execution_count": 350,
     "metadata": {},
     "output_type": "execute_result"
    }
   ],
   "source": [
    "s1"
   ]
  },
  {
   "cell_type": "code",
   "execution_count": null,
   "metadata": {},
   "outputs": [],
   "source": []
  }
 ],
 "metadata": {
  "kernelspec": {
   "display_name": "Python 3",
   "language": "python",
   "name": "python3"
  },
  "language_info": {
   "codemirror_mode": {
    "name": "ipython",
    "version": 3
   },
   "file_extension": ".py",
   "mimetype": "text/x-python",
   "name": "python",
   "nbconvert_exporter": "python",
   "pygments_lexer": "ipython3",
   "version": "3.7.3"
  }
 },
 "nbformat": 4,
 "nbformat_minor": 2
}
