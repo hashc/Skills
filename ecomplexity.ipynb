{
 "cells": [
  {
   "cell_type": "code",
   "execution_count": 99,
   "metadata": {},
   "outputs": [],
   "source": [
    "import matplotlib.pyplot as plt\n",
    "import numpy as np\n",
    "import scipy.sparse.linalg \n",
    "import scipy\n",
    "import pandas as pd\n",
    "import copy\n",
    "import seaborn as sns\n",
    "import pickle\n",
    "from scipy import sparse"
   ]
  },
  {
   "cell_type": "code",
   "execution_count": 45,
   "metadata": {},
   "outputs": [],
   "source": [
    "data_file = \"./country_hsproduct2digit_year.csv\"\n",
    "Data=pd.read_csv(data_file,low_memory=False)\n",
    "#give id for country \n",
    "def giveId(name):\n",
    "    Dict={}\n",
    "    n=0\n",
    "    for c in  Data[name]:\n",
    "        if c not in Dict:\n",
    "            Dict[c]=n\n",
    "            n+=1    \n",
    "    return Dict\n",
    "\n",
    "CountryId=giveId(\"location_name_short_en\")\n",
    "CountryCodeId=giveId(\"location_code\")\n",
    "ProductCodeId=giveId(\"hs_product_code\")\n",
    "ProductId=giveId(\"hs_product_name_short_en\")"
   ]
  },
  {
   "cell_type": "code",
   "execution_count": 66,
   "metadata": {},
   "outputs": [],
   "source": [
    "N,M=len(CountryCodeId),len(ProductCodeId)"
   ]
  },
  {
   "cell_type": "code",
   "execution_count": 81,
   "metadata": {},
   "outputs": [],
   "source": [
    "MatrixD={}\n",
    "for index in Data.index:\n",
    "    year=Data.loc[index]['year']\n",
    "    if year not in MatrixD:\n",
    "        MatrixD[year]=np.zeros((N,M))\n",
    "    ev = Data.loc[index][\"export_value\"]\n",
    "    c = Data.loc[index][\"location_code\"]\n",
    "    p = Data.loc[index][\"hs_product_code\"]\n",
    "    MatrixD[year][CountryCodeId[c]][ProductCodeId[p]]=ev"
   ]
  },
  {
   "cell_type": "code",
   "execution_count": 83,
   "metadata": {},
   "outputs": [],
   "source": [
    "with open(\"MatrixD.pkl\",'wb')as f:\n",
    "    pickle.dump(MatrixD,f)"
   ]
  },
  {
   "cell_type": "code",
   "execution_count": 161,
   "metadata": {},
   "outputs": [
    {
     "name": "stderr",
     "output_type": "stream",
     "text": [
      "/home/liujing/anaconda3/lib/python3.7/site-packages/ipykernel_launcher.py:1: RuntimeWarning: invalid value encountered in greater\n",
      "  \"\"\"Entry point for launching an IPython kernel.\n"
     ]
    },
    {
     "data": {
      "text/plain": [
       "matrix([[False, False, False, ..., False, False,  True],\n",
       "        [False, False, False, ..., False, False, False],\n",
       "        [False, False,  True, ..., False, False, False],\n",
       "        ...,\n",
       "        [ True,  True, False, ..., False, False, False],\n",
       "        [False,  True,  True, ..., False, False, False],\n",
       "        [False, False, False, ..., False, False, False]])"
      ]
     },
     "execution_count": 161,
     "metadata": {},
     "output_type": "execute_result"
    }
   ],
   "source": [
    "R>1"
   ]
  },
  {
   "cell_type": "code",
   "execution_count": 208,
   "metadata": {},
   "outputs": [],
   "source": [
    "def RCA(Xcp):\n",
    "    \"\"\"\n",
    "    Xcp is a numpy.matrix type\n",
    "    --|steel|oil|chip|bean|clothes\n",
    "    --|--|--|--|--|--\n",
    "    USA|1|1|1|1|0\n",
    "    China|1|0|0|1|1\n",
    "    Viet Nam|0|0|0|1|1\n",
    "    \"\"\"\n",
    "    if type(Xcp) is not np.matrix:\n",
    "        if type(Xcp) is np.array or list:\n",
    "            Xcp = np.matrix(Xcp)\n",
    "        else:\n",
    "            raise ValueError('Xcp must be matrix')\n",
    "    else:\n",
    "        pass\n",
    "    B = Xcp.sum(1)*Xcp.sum(0) \n",
    "    Sum = Xcp.sum()\n",
    "    return Xcp*Sum/B\n",
    "    \n",
    "def fliterRCA(R):\n",
    "    M = R>1\n",
    "    return M.astype(float)\n",
    "\n",
    "\n",
    "def Get_eci_pci(M):\n",
    "    d = M.sum(1).T.tolist()[0]\n",
    "    u = M.sum(0).tolist()[0]\n",
    "    D = np.diag([1.0/i if i>0 else 0. for i in d])\n",
    "    U = np.diag([1.0/i if i>0 else 0. for i in u])\n",
    "    mcp1 = D * M\n",
    "    mcp2 = M * U\n",
    "    \n",
    "    Mcc = mcp1 * mcp2.T\n",
    "    Mpp = mcp2.T * mcp1\n",
    "    eigvals, eigvecs = np.linalg.eig(Mpp)\n",
    "    eigvecs = np.real(eigvecs)\n",
    "    # Get eigenvector corresponding to second largest eigenvalue\n",
    "    eig_index = eigvals.argsort()[-2]\n",
    "    kp = eigvecs[:, eig_index]\n",
    "    kc = mcp1 @ kp\n",
    "    s1 = np.sign(np.corrcoef(M.sum(1).reshape(-1), kc.reshape(-1))[0, 1])\n",
    "    eci = s1 * kc\n",
    "    pci = s1 * kp  \n",
    "    return eci.T.tolist()[0],pci.T.tolist()[0]\n",
    "\n",
    "def Get_eci_pci_sparse(M):\n",
    "    d = M.sum(1).T.tolist()[0]\n",
    "    u = M.sum(0).tolist()[0]\n",
    "    nd,nu = len(d),len(u)\n",
    "    D1 = scipy.sparse.csc_matrix(([1.0/i if i>0 else 0. for i in d], (range(nd), range(nd))),shape=(nd,nd))\n",
    "    U1 = scipy.sparse.csc_matrix(([1.0/i if i>0 else 0. for i in u], (range(nu), range(nu))),shape=(nu,nu))\n",
    "    M = sparse.csc_matrix(M)\n",
    "    mcp1 = D1 * M\n",
    "    mcp2 = M * U1\n",
    "    Mcc = mcp1 @ mcp2.T\n",
    "    Mpp = mcp2.T @ mcp1\n",
    "    A=scipy.sparse.csc_matrix(Mpp)\n",
    "    eigvals, eigvecs = scipy.sparse.linalg.eigs(A, k=2)\n",
    "    eigvecs = np.real(eigvecs)\n",
    "    # Get eigenvector corresponding to second largest eigenvalue\n",
    "    eig_index = eigvals.argsort()[-2]\n",
    "    kp = eigvecs[:, eig_index]\n",
    "    kc = mcp1 @ kp\n",
    "    s1 = np.sign(np.corrcoef(M.sum(1).reshape(-1), kc.reshape(-1))[0, 1])\n",
    "    eci = s1 * kc\n",
    "    pci = s1 * kp\n",
    "    return eci,pci\n",
    "\n",
    "def Get_z_score(x):\n",
    "    x=np.array(x)\n",
    "    std=np.std(x)\n",
    "    mean=np.mean(x)\n",
    "    return (x-mean)/std"
   ]
  },
  {
   "cell_type": "code",
   "execution_count": 250,
   "metadata": {
    "scrolled": true
   },
   "outputs": [
    {
     "name": "stderr",
     "output_type": "stream",
     "text": [
      "/home/liujing/anaconda3/lib/python3.7/site-packages/ipykernel_launcher.py:19: RuntimeWarning: divide by zero encountered in true_divide\n",
      "/home/liujing/anaconda3/lib/python3.7/site-packages/ipykernel_launcher.py:19: RuntimeWarning: invalid value encountered in true_divide\n",
      "/home/liujing/anaconda3/lib/python3.7/site-packages/ipykernel_launcher.py:22: RuntimeWarning: invalid value encountered in greater\n"
     ]
    }
   ],
   "source": [
    "c = MatrixD[1995]\n",
    "R = RCA(c)\n",
    "M = fliterRCA(R)\n",
    "eci,pci = Get_eci_pci(np.matrix(M))"
   ]
  },
  {
   "cell_type": "code",
   "execution_count": 212,
   "metadata": {},
   "outputs": [
    {
     "data": {
      "text/plain": [
       "array([-0.72126308, -0.34339136, -1.16835553,  0.13200883, -0.87178221,\n",
       "       -0.88787332, -1.10629223, -1.10942161, -1.62093656, -0.95646448,\n",
       "       -0.76928976, -1.34394039, -1.12705631, -1.135165  , -0.92962389,\n",
       "       -0.69602306, -0.99192977, -0.6936576 , -0.11351231, -0.57266281,\n",
       "       -0.59476154, -0.55844643, -0.93922899, -0.67414876, -0.4166958 ,\n",
       "       -1.55429746, -1.46323413, -0.32848758,  0.61608846,  0.8480846 ,\n",
       "       -0.60680007,  1.65793062, -0.31023481,  0.16068982,  1.08149574,\n",
       "       -0.01273841,  1.71548025,  1.17097571,  1.47944455,  0.48323147,\n",
       "       -0.82281482,  0.4358478 , -0.12403756, -0.9463549 ,  0.01433409,\n",
       "       -0.72622839,  0.08596344,  0.84865751,  0.83470305,  0.44479095,\n",
       "        0.11322817, -1.03049504, -0.15222095,  1.21865977,  0.68044649,\n",
       "        0.72063143, -0.41820157,  1.24675418,  1.48082347,  1.29678812,\n",
       "       -0.29467336, -0.47236149, -0.08604713,  0.34053629,  0.12985454,\n",
       "        1.41645139,  0.02156039,  0.60836099,  0.47767747,  0.88970721,\n",
       "       -1.03943962,  0.20889569,  1.04662347, -0.12929039, -0.71241864,\n",
       "       -0.06131358, -0.01783748,  0.12249949, -0.27370413, -0.11839033,\n",
       "        1.46976412,  1.47248562,  2.438031  ,  1.41310393,  0.71869387,\n",
       "        1.67734743,  1.43202287, -0.29321679,  1.76676585,  1.04054853,\n",
       "        1.05162013,  0.47134159,  0.46395824,  1.58944204,  0.53979331,\n",
       "       -0.20263537, -0.27945485, -3.41016632, -1.48646137, -1.17036642,\n",
       "       -1.66054098, -1.02775723])"
      ]
     },
     "execution_count": 212,
     "metadata": {},
     "output_type": "execute_result"
    }
   ],
   "source": [
    "Get_z_score(pci)"
   ]
  },
  {
   "cell_type": "code",
   "execution_count": 213,
   "metadata": {},
   "outputs": [
    {
     "ename": "AttributeError",
     "evalue": "'DataFrame' object has no attribute 'mcp_t'",
     "output_type": "error",
     "traceback": [
      "\u001b[0;31m---------------------------------------------------------------------------\u001b[0m",
      "\u001b[0;31mAttributeError\u001b[0m                            Traceback (most recent call last)",
      "\u001b[0;32m<ipython-input-213-4f7a84f73d8e>\u001b[0m in \u001b[0;36m<module>\u001b[0;34m()\u001b[0m\n\u001b[0;32m----> 1\u001b[0;31m \u001b[0mcdata\u001b[0m\u001b[0;34m.\u001b[0m\u001b[0mmcp_t\u001b[0m\u001b[0;34m\u001b[0m\u001b[0;34m\u001b[0m\u001b[0m\n\u001b[0m",
      "\u001b[0;32m/home/liujing/anaconda3/lib/python3.7/site-packages/pandas/core/generic.py\u001b[0m in \u001b[0;36m__getattr__\u001b[0;34m(self, name)\u001b[0m\n\u001b[1;32m   4374\u001b[0m             \u001b[0;32mif\u001b[0m \u001b[0mself\u001b[0m\u001b[0;34m.\u001b[0m\u001b[0m_info_axis\u001b[0m\u001b[0;34m.\u001b[0m\u001b[0m_can_hold_identifiers_and_holds_name\u001b[0m\u001b[0;34m(\u001b[0m\u001b[0mname\u001b[0m\u001b[0;34m)\u001b[0m\u001b[0;34m:\u001b[0m\u001b[0;34m\u001b[0m\u001b[0;34m\u001b[0m\u001b[0m\n\u001b[1;32m   4375\u001b[0m                 \u001b[0;32mreturn\u001b[0m \u001b[0mself\u001b[0m\u001b[0;34m[\u001b[0m\u001b[0mname\u001b[0m\u001b[0;34m]\u001b[0m\u001b[0;34m\u001b[0m\u001b[0;34m\u001b[0m\u001b[0m\n\u001b[0;32m-> 4376\u001b[0;31m             \u001b[0;32mreturn\u001b[0m \u001b[0mobject\u001b[0m\u001b[0;34m.\u001b[0m\u001b[0m__getattribute__\u001b[0m\u001b[0;34m(\u001b[0m\u001b[0mself\u001b[0m\u001b[0;34m,\u001b[0m \u001b[0mname\u001b[0m\u001b[0;34m)\u001b[0m\u001b[0;34m\u001b[0m\u001b[0;34m\u001b[0m\u001b[0m\n\u001b[0m\u001b[1;32m   4377\u001b[0m \u001b[0;34m\u001b[0m\u001b[0m\n\u001b[1;32m   4378\u001b[0m     \u001b[0;32mdef\u001b[0m \u001b[0m__setattr__\u001b[0m\u001b[0;34m(\u001b[0m\u001b[0mself\u001b[0m\u001b[0;34m,\u001b[0m \u001b[0mname\u001b[0m\u001b[0;34m,\u001b[0m \u001b[0mvalue\u001b[0m\u001b[0;34m)\u001b[0m\u001b[0;34m:\u001b[0m\u001b[0;34m\u001b[0m\u001b[0;34m\u001b[0m\u001b[0m\n",
      "\u001b[0;31mAttributeError\u001b[0m: 'DataFrame' object has no attribute 'mcp_t'"
     ]
    }
   ],
   "source": [
    "cdata.mcp_t"
   ]
  },
  {
   "cell_type": "code",
   "execution_count": 171,
   "metadata": {},
   "outputs": [],
   "source": [
    "from ecomplexity import ecomplexity\n",
    "from ecomplexity import proximity\n",
    "from ecomplexity import ComplexityData\n",
    "# Calculate complexity\n",
    "trade_cols = {'time':'year', 'loc':'location_code', 'prod':'hs_product_code', 'val':'export_value'}\n",
    "#cdata = ecomplexity(data, trade_cols)\n",
    "\n",
    "# # Calculate proximity matrix\n",
    "# prox_df = proximity(data, trade_cols)"
   ]
  },
  {
   "cell_type": "code",
   "execution_count": 215,
   "metadata": {},
   "outputs": [],
   "source": [
    "import numpy as np\n",
    "import pandas as pd\n",
    "import warnings\n",
    "import sys\n",
    "from functools import wraps\n",
    "import time\n",
    "import datetime\n",
    "\n",
    "class ComplexityData(object):\n",
    "    \"\"\"Calculate complexity and other related results\n",
    "    Args:\n",
    "        data: pandas dataframe containing production / trade data.\n",
    "            Including variables indicating time, location, product and value\n",
    "        cols_input: dict of column names for time, location, product and value.\n",
    "            Example: {'time':'year', 'loc':'origin', 'prod':'hs92', 'val':'export_val'}\n",
    "        val_errors_flag: {'coerce','ignore','raise'}. Passed to pd.to_numeric\n",
    "            *default* coerce.\n",
    "    Attributes:\n",
    "        data: clean data with standardized column names\n",
    "    \"\"\"\n",
    "\n",
    "    def __init__(self, data, cols_input, val_errors_flag):\n",
    "        self.data = data.copy()\n",
    "\n",
    "        # Standardize column names based on input\n",
    "        self.rename_cols(cols_input)\n",
    "\n",
    "        # Clean data to handle NA's and such\n",
    "        self.clean_data(val_errors_flag)\n",
    "\n",
    "    def rename_cols(self, cols_input):\n",
    "        \"\"\"Standardize column names\"\"\"\n",
    "        cols_map_inv = {v: k for k, v in cols_input.items()}\n",
    "        self.data = self.data.rename(columns=cols_map_inv)\n",
    "        self.data = self.data[['time', 'loc', 'prod', 'val']]\n",
    "\n",
    "    def clean_data(self, val_errors_flag_input):\n",
    "        \"\"\"Clean data to remove non-numeric values, handle NA's and duplicates\"\"\"\n",
    "        # Make sure values are numeric\n",
    "        self.data.val = pd.to_numeric(\n",
    "            self.data.val, errors=val_errors_flag_input)\n",
    "        self.data.set_index(['time', 'loc', 'prod'], inplace=True)\n",
    "        if self.data.val.isnull().values.any():\n",
    "            warnings.warn('NaN value(s) present, coercing to zero(es)')\n",
    "            self.data.val.fillna(0, inplace=True)\n",
    "\n",
    "        # Remove duplicates\n",
    "        dups = self.data.index.duplicated()\n",
    "        if dups.sum() > 0:\n",
    "            warnings.warn(\n",
    "                'Duplicate values exist, keeping the first occurrence')\n",
    "            self.data = self.data[~self.data.index.duplicated()]\n",
    "\n",
    "    def create_full_df(self, t):\n",
    "        \"\"\"Rectangularize, but remove rows with diversity or ubiquity zero\n",
    "        Rows with zero diversity / ubiquity lead to dividebyzero errors and\n",
    "        incorrect values during normzalization\n",
    "        \"\"\"\n",
    "        self.data_t = self.data.loc[t].copy()\n",
    "        diversity_check = self.data_t.reset_index().groupby(\n",
    "            ['loc'])['val'].sum().reset_index()\n",
    "        ubiquity_check = self.data_t.reset_index().groupby(\n",
    "            ['prod'])['val'].sum().reset_index()\n",
    "        diversity_check = diversity_check[diversity_check.val != 0]\n",
    "        ubiquity_check = ubiquity_check[ubiquity_check.val != 0]\n",
    "        self.data_t = self.data_t.reset_index()\n",
    "        self.data_t = self.data_t.merge(\n",
    "            diversity_check[['loc']], on='loc', how='right')\n",
    "        self.data_t = self.data_t.merge(\n",
    "            ubiquity_check[['prod']], on='prod', how='right')\n",
    "        self.data_t.set_index(['loc','prod'], inplace=True)\n",
    "        data_index = pd.MultiIndex.from_product(\n",
    "            self.data_t.index.levels, names=self.data_t.index.names)\n",
    "        self.data_t = self.data_t.reindex(data_index, fill_value=0)\n",
    "\n",
    "    def calculate_rca(self):\n",
    "        \"\"\"Calculate RCA\"\"\"\n",
    "        # Convert data into numpy array\n",
    "        loc_n_vals = len(self.data_t.index.levels[0])\n",
    "        prod_n_vals = len(self.data_t.index.levels[1])\n",
    "        data_np = self.data_t.values.reshape((loc_n_vals, prod_n_vals))\n",
    "\n",
    "        # Calculate RCA, disable dividebyzero errors\n",
    "        with np.errstate(divide='ignore', invalid='ignore'):\n",
    "            num = (data_np / np.nansum(data_np, axis=1)[:, np.newaxis])\n",
    "            loc_total = np.nansum(data_np, axis=0)[np.newaxis, :]\n",
    "            world_total = np.nansum(loc_total, axis=1)[:, np.newaxis]\n",
    "            den = loc_total / world_total\n",
    "            self.rca_t = num / den\n",
    "\n",
    "    def calculate_rpop(self, pop, t):\n",
    "        \"\"\"Calculate RPOP\"\"\"\n",
    "        # After constructing df with all combinations, convert data into ndarray\n",
    "        loc_n_vals = len(self.data_t.index.levels[0])\n",
    "        prod_n_vals = len(self.data_t.index.levels[1])\n",
    "        data_np = self.data_t.values.reshape(\n",
    "            (loc_n_vals, prod_n_vals))\n",
    "\n",
    "        pop.columns = ['time', 'loc', 'pop']\n",
    "        pop_t = pop[pop.time == t].copy()\n",
    "        pop_t = pop_t.drop(columns=\"time\")\n",
    "        pop_t = pop_t.reset_index(drop=True).set_index('loc')\n",
    "        pop_index = self.data_t.index.unique('loc')\n",
    "        pop_t = pop_t.reindex(pop_index)\n",
    "        pop_t = pop_t.values\n",
    "        # print(pop_t.shape, data_np.shape)\n",
    "\n",
    "        num = data_np / pop_t\n",
    "        # print(\"Num done. Num shape {}\".format(num.shape))\n",
    "        loc_total = np.nansum(data_np, axis=0)[np.newaxis, :]\n",
    "        world_pop_total = np.nansum(pop_t)\n",
    "\n",
    "        den = loc_total / world_pop_total\n",
    "        # print(\"Den done. Den shape {}\".format(den.shape))\n",
    "        rpop = num / den\n",
    "        self.rpop_t = rpop\n",
    "\n",
    "    def calculate_mcp(self, rca_mcp_threshold_input, rpop_mcp_threshold_input,\n",
    "                           presence_test, pop, t):\n",
    "        \"\"\"Calculate MCP based on RCA / RPOP / both\"\"\"\n",
    "        def convert_to_binary(x, threshold):\n",
    "            x = np.nan_to_num(x)\n",
    "            x = np.where(x >= threshold, 1, 0)\n",
    "            return(x)\n",
    "\n",
    "        if presence_test == \"rca\":\n",
    "            self.mcp_t = convert_to_binary(self.rca_t, rca_mcp_threshold_input)\n",
    "\n",
    "        elif presence_test == \"rpop\":\n",
    "            self.calculate_rpop(pop, t)\n",
    "            self.mcp_t = convert_to_binary(self.rpop_t, rpop_mcp_threshold_input)\n",
    "\n",
    "        elif presence_test == \"both\":\n",
    "            self.calculate_rpop(pop, t)\n",
    "            self.mcp_t = convert_to_binary(self.rca_t, rca_mcp_threshold_input) + \\\n",
    "                         convert_to_binary(self.rpop_t, rpop_mcp_threshold_input)\n",
    "\n",
    "    def calculate_manual_mcp(self):\n",
    "        \"\"\"If pre-computed MCP supplied, check validity and reshape\"\"\"\n",
    "        # Test to see if indeed MCP\n",
    "        if np.any(~np.isin(self.data_t.values, [0, 1])):\n",
    "            error_val = self.data_t.values[~np.isin(\n",
    "                self.data_t.values, [0, 1])].flat[0]\n",
    "            raise ValueError(\n",
    "                \"Manually supplied MCP column contains values other than 0 or 1 - Val: {}\".format(error_val))\n",
    "\n",
    "        # Convert data into numpy array\n",
    "        loc_n_vals = len(self.data_t.index.levels[0])\n",
    "        prod_n_vals = len(self.data_t.index.levels[1])\n",
    "        data_np = self.data_t.values.reshape(\n",
    "            (loc_n_vals, prod_n_vals))\n",
    "\n",
    "        self.mcp_t = data_np"
   ]
  },
  {
   "cell_type": "code",
   "execution_count": 218,
   "metadata": {},
   "outputs": [],
   "source": [
    "cdata=ComplexityData(data,trade_cols, 'coerce')"
   ]
  },
  {
   "cell_type": "code",
   "execution_count": 232,
   "metadata": {},
   "outputs": [
    {
     "data": {
      "text/plain": [
       "array([[1.65300000e+04, 5.79300000e+03, 2.45309000e+05, ...,\n",
       "        8.24636880e+07, 1.54798880e+08, 1.65921788e+06],\n",
       "       [0.00000000e+00, 3.65270000e+04, 4.59000000e+03, ...,\n",
       "        0.00000000e+00, 0.00000000e+00, 0.00000000e+00],\n",
       "       [0.00000000e+00, 8.98420000e+04, 2.29340160e+07, ...,\n",
       "        4.70000000e+07, 9.02500000e+07, 1.57300000e+07],\n",
       "       ...,\n",
       "       [5.39740900e+06, 3.40466040e+07, 1.79849800e+06, ...,\n",
       "        0.00000000e+00, 0.00000000e+00, 0.00000000e+00],\n",
       "       [5.02553300e+06, 1.07444310e+07, 1.11377835e+09, ...,\n",
       "        0.00000000e+00, 0.00000000e+00, 0.00000000e+00],\n",
       "       [3.73285050e+07, 4.76599800e+07, 7.48597570e+07, ...,\n",
       "        0.00000000e+00, 0.00000000e+00, 0.00000000e+00]])"
      ]
     },
     "execution_count": 232,
     "metadata": {},
     "output_type": "execute_result"
    }
   ],
   "source": [
    "MatrixD[1999][0:]"
   ]
  },
  {
   "cell_type": "code",
   "execution_count": 233,
   "metadata": {},
   "outputs": [
    {
     "ename": "AttributeError",
     "evalue": "'ComplexityData' object has no attribute 'data_t'",
     "output_type": "error",
     "traceback": [
      "\u001b[0;31m---------------------------------------------------------------------------\u001b[0m",
      "\u001b[0;31mAttributeError\u001b[0m                            Traceback (most recent call last)",
      "\u001b[0;32m<ipython-input-233-715eb9a836ef>\u001b[0m in \u001b[0;36m<module>\u001b[0;34m()\u001b[0m\n\u001b[0;32m----> 1\u001b[0;31m \u001b[0mcdata\u001b[0m\u001b[0;34m.\u001b[0m\u001b[0mcalculate_rca\u001b[0m\u001b[0;34m(\u001b[0m\u001b[0;34m)\u001b[0m\u001b[0;34m\u001b[0m\u001b[0;34m\u001b[0m\u001b[0m\n\u001b[0m",
      "\u001b[0;32m<ipython-input-215-233d62acb882>\u001b[0m in \u001b[0;36mcalculate_rca\u001b[0;34m(self)\u001b[0m\n\u001b[1;32m     77\u001b[0m         \u001b[0;34m\"\"\"Calculate RCA\"\"\"\u001b[0m\u001b[0;34m\u001b[0m\u001b[0;34m\u001b[0m\u001b[0m\n\u001b[1;32m     78\u001b[0m         \u001b[0;31m# Convert data into numpy array\u001b[0m\u001b[0;34m\u001b[0m\u001b[0;34m\u001b[0m\u001b[0;34m\u001b[0m\u001b[0m\n\u001b[0;32m---> 79\u001b[0;31m         \u001b[0mloc_n_vals\u001b[0m \u001b[0;34m=\u001b[0m \u001b[0mlen\u001b[0m\u001b[0;34m(\u001b[0m\u001b[0mself\u001b[0m\u001b[0;34m.\u001b[0m\u001b[0mdata_t\u001b[0m\u001b[0;34m.\u001b[0m\u001b[0mindex\u001b[0m\u001b[0;34m.\u001b[0m\u001b[0mlevels\u001b[0m\u001b[0;34m[\u001b[0m\u001b[0;36m0\u001b[0m\u001b[0;34m]\u001b[0m\u001b[0;34m)\u001b[0m\u001b[0;34m\u001b[0m\u001b[0;34m\u001b[0m\u001b[0m\n\u001b[0m\u001b[1;32m     80\u001b[0m         \u001b[0mprod_n_vals\u001b[0m \u001b[0;34m=\u001b[0m \u001b[0mlen\u001b[0m\u001b[0;34m(\u001b[0m\u001b[0mself\u001b[0m\u001b[0;34m.\u001b[0m\u001b[0mdata_t\u001b[0m\u001b[0;34m.\u001b[0m\u001b[0mindex\u001b[0m\u001b[0;34m.\u001b[0m\u001b[0mlevels\u001b[0m\u001b[0;34m[\u001b[0m\u001b[0;36m1\u001b[0m\u001b[0;34m]\u001b[0m\u001b[0;34m)\u001b[0m\u001b[0;34m\u001b[0m\u001b[0;34m\u001b[0m\u001b[0m\n\u001b[1;32m     81\u001b[0m         \u001b[0mdata_np\u001b[0m \u001b[0;34m=\u001b[0m \u001b[0mself\u001b[0m\u001b[0;34m.\u001b[0m\u001b[0mdata_t\u001b[0m\u001b[0;34m.\u001b[0m\u001b[0mvalues\u001b[0m\u001b[0;34m.\u001b[0m\u001b[0mreshape\u001b[0m\u001b[0;34m(\u001b[0m\u001b[0;34m(\u001b[0m\u001b[0mloc_n_vals\u001b[0m\u001b[0;34m,\u001b[0m \u001b[0mprod_n_vals\u001b[0m\u001b[0;34m)\u001b[0m\u001b[0;34m)\u001b[0m\u001b[0;34m\u001b[0m\u001b[0;34m\u001b[0m\u001b[0m\n",
      "\u001b[0;31mAttributeError\u001b[0m: 'ComplexityData' object has no attribute 'data_t'"
     ]
    }
   ],
   "source": [
    "cdata.calculate_rca()"
   ]
  },
  {
   "cell_type": "code",
   "execution_count": 234,
   "metadata": {},
   "outputs": [
    {
     "data": {
      "text/plain": [
       "Int64Index([1995, 1996, 1997, 1998, 1999, 2000, 2001, 2002, 2003, 2004, 2005,\n",
       "            2006, 2007, 2008, 2009, 2010, 2011, 2012, 2013, 2014, 2015, 2016],\n",
       "           dtype='int64', name='time')"
      ]
     },
     "execution_count": 234,
     "metadata": {},
     "output_type": "execute_result"
    }
   ],
   "source": [
    "cdata.data.index.unique(\"time\")"
   ]
  },
  {
   "cell_type": "code",
   "execution_count": 235,
   "metadata": {},
   "outputs": [],
   "source": [
    "cdata.create_full_df(1995)"
   ]
  },
  {
   "cell_type": "code",
   "execution_count": 236,
   "metadata": {},
   "outputs": [],
   "source": [
    "cdata.calculate_rca()"
   ]
  },
  {
   "cell_type": "code",
   "execution_count": 244,
   "metadata": {},
   "outputs": [],
   "source": [
    "presence_test=\"rca\"\n",
    "val_errors_flag='coerce'\n",
    "rca_mcp_threshold=1\n",
    "rpop_mcp_threshold=1\n",
    "pop=None\n",
    "cdata.calculate_mcp(rca_mcp_threshold, rpop_mcp_threshold, presence_test, pop, 1995)"
   ]
  },
  {
   "cell_type": "code",
   "execution_count": 252,
   "metadata": {},
   "outputs": [
    {
     "data": {
      "text/plain": [
       "array([[9.70606686e-03, 3.64167054e-03, 0.00000000e+00, ...,\n",
       "        9.77592507e-01, 7.14778921e+00, 0.00000000e+00],\n",
       "       [1.29280043e-01, 0.00000000e+00, 2.61928089e-01, ...,\n",
       "        0.00000000e+00, 0.00000000e+00, 0.00000000e+00],\n",
       "       [0.00000000e+00, 0.00000000e+00, 1.12561452e+00, ...,\n",
       "        2.62034060e-01, 0.00000000e+00, 0.00000000e+00],\n",
       "       ...,\n",
       "       [1.47862000e-01, 3.13158526e-01, 1.48667781e+00, ...,\n",
       "        7.76747702e-01, 1.04453707e+00, 0.00000000e+00],\n",
       "       [1.38559678e-01, 9.72126269e-03, 3.14519144e-02, ...,\n",
       "        0.00000000e+00, 0.00000000e+00, 0.00000000e+00],\n",
       "       [6.62464452e+00, 4.22631054e+00, 1.05004137e-01, ...,\n",
       "        0.00000000e+00, 0.00000000e+00, 0.00000000e+00]])"
      ]
     },
     "execution_count": 252,
     "metadata": {},
     "output_type": "execute_result"
    }
   ],
   "source": [
    "cdata.rca_t"
   ]
  },
  {
   "cell_type": "code",
   "execution_count": 254,
   "metadata": {},
   "outputs": [
    {
     "name": "stderr",
     "output_type": "stream",
     "text": [
      "/home/liujing/anaconda3/lib/python3.7/site-packages/ipykernel_launcher.py:1: RuntimeWarning: invalid value encountered in greater_equal\n",
      "  \"\"\"Entry point for launching an IPython kernel.\n"
     ]
    }
   ],
   "source": [
    "x = np.where(R >= 1, 1, 0)"
   ]
  },
  {
   "cell_type": "code",
   "execution_count": 255,
   "metadata": {},
   "outputs": [
    {
     "data": {
      "text/plain": [
       "array([[0, 0, 0, ..., 0, 0, 1],\n",
       "       [0, 0, 0, ..., 0, 0, 0],\n",
       "       [0, 0, 1, ..., 0, 0, 0],\n",
       "       ...,\n",
       "       [1, 1, 0, ..., 0, 0, 0],\n",
       "       [0, 1, 1, ..., 0, 0, 0],\n",
       "       [0, 0, 0, ..., 0, 0, 0]])"
      ]
     },
     "execution_count": 255,
     "metadata": {},
     "output_type": "execute_result"
    }
   ],
   "source": [
    "x"
   ]
  },
  {
   "cell_type": "code",
   "execution_count": null,
   "metadata": {},
   "outputs": [],
   "source": []
  }
 ],
 "metadata": {
  "kernelspec": {
   "display_name": "Python 3",
   "language": "python",
   "name": "python3"
  },
  "language_info": {
   "codemirror_mode": {
    "name": "ipython",
    "version": 3
   },
   "file_extension": ".py",
   "mimetype": "text/x-python",
   "name": "python",
   "nbconvert_exporter": "python",
   "pygments_lexer": "ipython3",
   "version": "3.7.2"
  }
 },
 "nbformat": 4,
 "nbformat_minor": 2
}
